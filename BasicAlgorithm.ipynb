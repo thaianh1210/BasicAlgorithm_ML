{
  "cells": [
    {
      "cell_type": "code",
      "execution_count": null,
      "metadata": {
        "colab": {
          "base_uri": "https://localhost:8080/",
          "height": 449
        },
        "id": "giowG4xhXko7",
        "outputId": "4a16f579-45da-42d4-d478-49c00260d280"
      },
      "outputs": [
        {
          "output_type": "display_data",
          "data": {
            "text/plain": [
              "<Figure size 640x480 with 1 Axes>"
            ],
            "image/png": "[encoded data removed]"
          },
          "metadata": {}
        }
      ],
      "source": [
        "import numpy as np\n",
        "import pandas as pd\n",
        "from matplotlib import pyplot as plt\n",
        "import matplotlib.pyplot as plt\n",
        "import seaborn as sns\n",
        "import math\n",
        "\n",
        "# Bài tập 1\n",
        "df = pd.read_csv('cleveland.csv', header = None)\n",
        "df.columns = ['age', 'sex', 'cp', 'trestbps', 'chol',\n",
        "              'fbs', 'restecg', 'thalach', 'exang',\n",
        "              'oldpeak', 'slope', 'ca', 'thal', 'target']\n",
        "df['target'] = df.target.map({0: 0, 1: 1, 2: 1, 3: 1, 4: 1})\n",
        "df['thal'] = df.thal.fillna(df.thal.mean())\n",
        "df['ca'] = df.ca.fillna(df.ca.mean())\n",
        "\n",
        "\n",
        "\n",
        "sns.histplot(data = df, x = 'age', hue = 'target', binwidth = 0.25)\n",
        "\n",
        "plt.show()"
      ]
    },
    {
      "cell_type": "code",
      "execution_count": null,
      "metadata": {
        "colab": {
          "base_uri": "https://localhost:8080/",
          "height": 449
        },
        "id": "MTyNDlCSgaH1",
        "outputId": "ceb252ea-feea-4d25-e90d-1b96d96f595e"
      },
      "outputs": [
        {
          "output_type": "display_data",
          "data": {
            "text/plain": [
              "<Figure size 640x480 with 1 Axes>"
            ],
            "image/png": "[encoded data removed]"
          },
          "metadata": {}
        }
      ],
      "source": [
        "\n",
        "sns.barplot(data = df, x = 'sex', y = 'age', hue = 'target')\n",
        "plt.show()"
      ]
    },
    {
      "cell_type": "code",
      "execution_count": null,
      "metadata": {
        "colab": {
          "base_uri": "https://localhost:8080/"
        },
        "id": "MZGZr-hxkQvX",
        "outputId": "0d955fdd-9b5d-4149-9da5-80d075670040"
      },
      "outputs": [
        {
          "output_type": "stream",
          "name": "stdout",
          "text": [
            "\n",
            "Accuracy for training set for KNN = 0.89\n",
            "Accuracy for testing set for KNN = 0.85\n"
          ]
        }
      ],
      "source": [
        "#bai tap 3\n",
        "from sklearn.model_selection import train_test_split\n",
        "X = df.iloc[:, :-1].values\n",
        "y = df.iloc[:, -1].values\n",
        "X_train, X_test, y_train, y_test = train_test_split(X, y, test_size = 0.2, random_state = 42)\n",
        "from sklearn.preprocessing import StandardScaler\n",
        "sc = StandardScaler()\n",
        "X_train = sc.fit_transform(X_train)\n",
        "X_test = sc.fit_transform(X_test)\n",
        "from sklearn.neighbors import KNeighborsClassifier\n",
        "classifier = KNeighborsClassifier(n_neighbors = 5, weights = 'uniform', algorithm = 'auto', leaf_size = 30, p =2, metric = 'minkowski')\n",
        "\n",
        "classifier.fit(X_train, y_train)\n",
        "\n",
        "from sklearn.metrics import confusion_matrix\n",
        "cm_train = confusion_matrix(y_train, classifier.predict(X_train))\n",
        "cm_test = confusion_matrix(y_test, classifier.predict(X_test))\n",
        "\n",
        "print()\n",
        "accuracy_for_train = np.round((cm_train[0][0] + cm_train[1][1])/ len(y_train), 2)\n",
        "accuracy_for_test = np.round((cm_test[0][0] + cm_test[1][1])/ len(y_test), 2)\n",
        "print('Accuracy for training set for KNN = {}'. format(accuracy_for_train))\n",
        "print('Accuracy for testing set for KNN = {}'. format(accuracy_for_test))\n"
      ]
    },
    {
      "cell_type": "code",
      "source": [],
      "metadata": {
        "id": "mVOxovsF6wer"
      },
      "execution_count": null,
      "outputs": []
    },
    {
      "cell_type": "code",
      "source": [
        "#########################################   SVM   #############################################################\n",
        "\n",
        "#Bai Tap 4\n",
        "\n",
        "\n",
        "from sklearn.svm import SVC\n",
        "svm = SVC(kernel = 'rbf', random_state = 42)\n",
        "model2 = svm.fit(X_train, y_train)\n",
        "cm_train = confusion_matrix(y_train, model2.predict(X_train))\n",
        "cm_test = confusion_matrix(y_test, model2.predict(X_test))\n",
        "\n",
        "print()\n",
        "accuracy_for_train = np.round((cm_train[0][0] + cm_train[1][1])/len(y_train),2)\n",
        "accuracy_for_test = np.round((cm_test[0][0] + cm_test[1][1])/len(y_test),2)\n",
        "print('Accuracy for training set for SVC = {}'.format(accuracy_for_train))\n",
        "print('Accuracy for test set for SVC = {}'.format(accuracy_for_test))"
      ],
      "metadata": {
        "colab": {
          "base_uri": "https://localhost:8080/"
        },
        "id": "0dVQyCbLJade",
        "outputId": "75e85031-a656-4a57-989a-b80903d47e94"
      },
      "execution_count": null,
      "outputs": [
        {
          "output_type": "stream",
          "name": "stdout",
          "text": [
            "\n",
            "Accuracy for training set for SVC = 0.9\n",
            "Accuracy for test set for SVC = 0.89\n"
          ]
        }
      ]
    },
    {
      "cell_type": "code",
      "source": [
        "#########################################   Naive Bayes  #############################################################\n",
        "# Bai tap 5\n",
        "\n",
        "\n",
        "X = df.iloc[:, :-1].values\n",
        "y = df.iloc[:, -1].values\n",
        "X_train, X_test, y_train, y_test = train_test_split(X, y, test_size = 0.2, random_state = 42)\n",
        "from sklearn.preprocessing import StandardScaler\n",
        "sc = StandardScaler()\n",
        "X_train = sc.fit_transform(X_train)\n",
        "X_test = sc.fit_transform(X_test)\n",
        "from sklearn.naive_bayes import GaussianNB as GNB\n",
        "gnb = GNB()\n",
        "model3 = gnb.fit(X_train, y_train)\n",
        "cm_train = confusion_matrix(y_train, model3.predict(X_train))\n",
        "cm_test = confusion_matrix(y_test, model3.predict(X_test))\n",
        "\n",
        "print()\n",
        "accuracy_for_train = np.round((cm_train[0][0] + cm_train[1][1])/len(y_train),2)\n",
        "accuracy_for_test = np.round((cm_test[0][0] + cm_test[1][1])/len(y_test),2)\n",
        "print('Accuracy for training set for GaussianNB = {}'.format(accuracy_for_train))\n",
        "print('Accuracy for test set for GaussianNB = {}'.format(accuracy_for_test))\n"
      ],
      "metadata": {
        "colab": {
          "base_uri": "https://localhost:8080/"
        },
        "id": "xgO9FwBdN_d2",
        "outputId": "835641ee-9556-4d63-fa3b-611b3db232bc"
      },
      "execution_count": null,
      "outputs": [
        {
          "output_type": "stream",
          "name": "stdout",
          "text": [
            "\n",
            "Accuracy for training set for GaussianNB = 0.85\n",
            "Accuracy for test set for GaussianNB = 0.85\n"
          ]
        }
      ]
    },
    {
      "cell_type": "code",
      "source": [
        "#Bai tap 6\n",
        "\n",
        "#########################################   Decision Tree  #############################################################\n",
        "X = df.iloc[:, :-1].values\n",
        "y = df.iloc[:, -1].values\n",
        "\n",
        "from sklearn.model_selection import train_test_split\n",
        "X_train, X_test, y_train, y_test = train_test_split(X, y, test_size = 0.2, random_state = 42)\n",
        "\n",
        "\n",
        "from sklearn.tree import DecisionTreeClassifier\n",
        "tree = DecisionTreeClassifier(criterion = 'gini', max_depth = 10, min_samples_split = 2)\n",
        "model4 = tree.fit(X_train, y_train)\n",
        "cm_train = confusion_matrix(y_train, model4.predict(X_train))\n",
        "cm_test = confusion_matrix(y_test, model4.predict(X_test))\n",
        "\n",
        "print()\n",
        "accuracy_for_train = np.round((cm_train[0][0] + cm_train[1][1])/len(y_train),2)\n",
        "accuracy_for_test = np.round((cm_test[0][0] + cm_test[1][1])/len(y_test),2)\n",
        "print('Accuracy for training set for DecisionTreeClassifier = {}'.format(accuracy_for_train))\n",
        "print('Accuracy for test set for DecisionTreeClassifier = {}'.format(accuracy_for_test))"
      ],
      "metadata": {
        "id": "5nHVE9STPuzC",
        "colab": {
          "base_uri": "https://localhost:8080/"
        },
        "outputId": "cf779aaa-6c16-461c-d36b-5a95da7e38be"
      },
      "execution_count": null,
      "outputs": [
        {
          "output_type": "stream",
          "name": "stdout",
          "text": [
            "\n",
            "Accuracy for training set for DecisionTreeClassifier = 1.0\n",
            "Accuracy for test set for DecisionTreeClassifier = 0.75\n"
          ]
        }
      ]
    },
    {
      "cell_type": "code",
      "source": [
        "#########################################  Random Forest  #############################################################\n",
        "#bai tap 7\n",
        "X = df.iloc[:, :-1].values\n",
        "y = df.iloc[:, -1].values\n",
        "\n",
        "from sklearn.model_selection import train_test_split\n",
        "X_train, X_test, y_train, y_test = train_test_split(X, y, test_size = 0.2, random_state = 42)\n",
        "\n",
        "from sklearn.ensemble import RandomForestClassifier\n",
        "forest = RandomForestClassifier(criterion = 'gini', min_samples_split = 2, max_depth = 10, n_estimators = 2, random_state = 42)\n",
        "model5 = forest.fit(X_train, y_train)\n",
        "cm_train = confusion_matrix(y_train, model5.predict(X_train))\n",
        "cm_test = confusion_matrix(y_test, model5.predict(X_test))\n",
        "\n",
        "print()\n",
        "accuracy_for_train = np.round((cm_train[0][0] + cm_train[1][1])/len(y_train),2)\n",
        "accuracy_for_test = np.round((cm_test[0][0] + cm_test[1][1])/len(y_test),2)\n",
        "print('Accuracy for training set for RandomForestClassifier = {}'.format(accuracy_for_train))\n",
        "print('Accuracy for test set for RandomForestClassifier = {}'.format(accuracy_for_test))"
      ],
      "metadata": {
        "colab": {
          "base_uri": "https://localhost:8080/"
        },
        "id": "x-wuSDjr7udh",
        "outputId": "f5942d19-65db-42e2-8e6b-4a7c1018e1ad"
      },
      "execution_count": null,
      "outputs": [
        {
          "output_type": "stream",
          "name": "stdout",
          "text": [
            "\n",
            "Accuracy for training set for RandomForestClassifier = 0.92\n",
            "Accuracy for test set for RandomForestClassifier = 0.75\n"
          ]
        }
      ]
    },
    {
      "cell_type": "code",
      "source": [
        "from sklearn.ensemble import AdaBoostClassifier\n",
        "X = df.iloc[:, :-1].values\n",
        "y = df.iloc[:, -1]. values\n",
        "from sklearn.model_selection import train_test_split\n",
        "X_train, X_test, y_train, y_test = train_test_split(X, y, test_size = 0.2, random_state = 42)\n",
        "from sklearn.preprocessing import MinMaxScaler\n",
        "mm = MinMaxScaler()\n",
        "X_train = mm.fit_transform(X_train)\n",
        "X_test = mm.fit_transform(X_test)\n",
        "ada = AdaBoostClassifier(n_estimators = 50, learning_rate = 1.)\n",
        "model6 = ada.fit(X_train, y_train)\n",
        "cm_train = confusion_matrix(y_train, model6.predict(X_train))\n",
        "cm_test = confusion_matrix(y_test, model6.predict(X_test))\n",
        "\n",
        "print(cm_train[0][0] + cm_train[1][1])\n",
        "accuracy_for_train = np.round((cm_train[0][0] + cm_train[1][1]) / len(y_train), 2)\n",
        "accuracy_for_test = np.round(((cm_test)[0][0] + cm_test[1][1]) / len(y_train), 2)\n",
        "print('Accuracy for training set for AdaBoostClassifier = {}'. format(accuracy_for_train))\n",
        "print('Accuracy for testing set for AdaBoostClassifier = {}'. format(accuracy_for_test))"
      ],
      "metadata": {
        "id": "2TtweYFj9_LX",
        "colab": {
          "base_uri": "https://localhost:8080/"
        },
        "outputId": "6d4655b5-3cd1-4f8c-f01d-8037c45235d2"
      },
      "execution_count": null,
      "outputs": [
        {
          "output_type": "stream",
          "name": "stdout",
          "text": [
            "221\n",
            "Accuracy for training set for AdaBoostClassifier = 0.91\n",
            "Accuracy for testing set for AdaBoostClassifier = 0.21\n"
          ]
        }
      ]
    },
    {
      "cell_type": "code",
      "source": [
        "from sklearn.ensemble import GradientBoostingClassifier\n",
        "X = df.iloc[:, :-1].values\n",
        "y = df.iloc[:, -1].values\n",
        "from sklearn.model_selection import train_test_split\n",
        "X_train, X_test, y_train, y_test = train_test_split(X, y, test_size = 0.2, random_state = 42)\n",
        "from sklearn.preprocessing import StandardScaler\n",
        "sc = StandardScaler()\n",
        "X_train = sc.fit_transform(X_train)\n",
        "X_test = sc.fit_transform(X_test)\n",
        "gradient = GradientBoostingClassifier(learning_rate = 1.0, n_estimators = 100, subsample = 1.0, min_samples_split= 2, max_depth = 3, random_state = 42)\n",
        "model7 = gradient.fit(X_train, y_train)\n",
        "cm_train = confusion_matrix(y_train, model7.predict(X_train))\n",
        "cm_test = confusion_matrix(y_test, model7.predict(X_test))\n",
        "\n",
        "print(cm_train[0][0] + cm_train[1][1])\n",
        "print(cm_test[0][0], cm_test[1][1])\n",
        "accuracy_for_train = np.round((cm_train[0][0] + cm_train[1][1]) / len(y_train), 2)\n",
        "accuracy_for_test = np.round((cm_test[0][0] + cm_test[1][1]) / len(y_test), 2)\n",
        "print('Accuracy for training set for GradientBoost = {}'.format(accuracy_for_train))\n",
        "print('Accuracy for testing set for GradientBoost = {}'.format(accuracy_for_test))"
      ],
      "metadata": {
        "colab": {
          "base_uri": "https://localhost:8080/"
        },
        "id": "TCJfZ_KPxw-1",
        "outputId": "ae65e5ef-3fda-48dd-ef66-8ce5dc07a071"
      },
      "execution_count": null,
      "outputs": [
        {
          "output_type": "stream",
          "name": "stdout",
          "text": [
            "242\n",
            "27 24\n",
            "Accuracy for training set for GradientBoost = 1.0\n",
            "Accuracy for testing set for GradientBoost = 0.84\n"
          ]
        }
      ]
    },
    {
      "cell_type": "code",
      "source": [
        "import xgboost as xgb\n",
        "X = df.iloc[:, :-1].values\n",
        "y = df.iloc[:, -1].values\n",
        "from sklearn.model_selection import train_test_split\n",
        "X_train, X_test, y_train, y_test = train_test_split(X, y, test_size = 0.2, random_state = 42)\n",
        "\n",
        "from sklearn.preprocessing import StandardScaler\n",
        "ss = StandardScaler()\n",
        "X_train = ss.fit_transform(X_train)\n",
        "X_test = ss.fit_transform(X_test)\n",
        "\n",
        "xgb = xgb.XGBClassifier(objective = 'binary:logistic', n_estimators = 100, random_state = 42)\n",
        "model8 = xgb.fit(X_train, y_train)\n",
        "\n",
        "from sklearn.metrics import confusion_matrix\n",
        "cm_train = confusion_matrix(y_train, model8.predict(X_train))\n",
        "cm_test = confusion_matrix(y_test, model8.predict(X_test))\n",
        "\n",
        "print(cm_train[0][0] + cm_test[1][1])\n",
        "accuracy_for_train = np.round((cm_train[0][0] + cm_train[1][1])/ len(y_train), 2)\n",
        "accuracy_for_test = np.round((cm_test[0][0] + cm_test[1][1]) / len(y_train), 2)\n",
        "print('Accuracy for training set for XGBoost = {}'. format(accuracy_for_train))\n",
        "print('Accuracy for testing set for XGBoost = {}'. format(accuracy_for_test))"
      ],
      "metadata": {
        "id": "DSsMSlKC48pJ",
        "colab": {
          "base_uri": "https://localhost:8080/"
        },
        "outputId": "216903db-31f6-4254-dab9-3dc1459fadeb"
      },
      "execution_count": null,
      "outputs": [
        {
          "output_type": "stream",
          "name": "stdout",
          "text": [
            "161\n",
            "Accuracy for training set for XGBoost = 1.0\n",
            "Accuracy for testing set for XGBoost = 0.21\n"
          ]
        }
      ]
    },
    {
      "cell_type": "code",
      "source": [
        "X = df.iloc[:, :-1].values\n",
        "y = df.iloc[:, -1].values\n",
        "\n",
        "from sklearn.model_selection import train_test_split\n",
        "X_train, X_test, y_train, y_test = train_test_split(X, y, test_size = 0.2, random_state = 42)\n",
        "from xgboost import XGBClassifier\n",
        "dtc = DecisionTreeClassifier(random_state = 42)\n",
        "rdc = RandomForestClassifier(random_state = 42)\n",
        "knn = KNeighborsClassifier()\n",
        "xgb = XGBClassifier()\n",
        "gb = GradientBoostingClassifier(random_state = 42)\n",
        "svm = SVC(kernel = 'rbf', random_state = 42)\n",
        "ada = AdaBoostClassifier(random_state = 42)\n",
        "\n",
        "from sklearn.ensemble import StackingClassifier\n",
        "base_models = [dtc,\n",
        "               rdc,\n",
        "               gb,\n",
        "               knn,\n",
        "               ada,\n",
        "               svm]\n",
        "\n",
        "meta_models = xgb\n",
        "\n",
        "stacking = StackingClassifier(estimators = base_models, final_estimator = xgb, passthrough = True)\n",
        "\n"
      ],
      "metadata": {
        "id": "dgZPryfe8GMa"
      },
      "execution_count": null,
      "outputs": []
    },
    {
      "cell_type": "code",
      "source": [
        "from sklearn.preprocessing import StandardScaler\n",
        "ss = StandardScaler()\n",
        "X_train = ss.fit_transform(X_train)\n",
        "X_test = ss.fit_transform(X_test)\n",
        "last_model = stacking.fit(X_train, y_train)\n",
        "\n",
        "from sklearn.metrics import confusion_matrix\n",
        "cm_train = confusion_matrix(y_train, last_model.predict(X_train))\n",
        "cm_test = confusion_matrix(y_test, last_model.predict(X_test))\n",
        "\n",
        "accuracy_for_train = np.round((cm_train[0][0] + cm_train[1][1])/ len(y_train), 2)\n",
        "accuracy_for_test = np.round((cm_test[0][0] + cm_test[1][1]) / len(y_test), 2)\n",
        "\n",
        "print('Accuracy for training set for Stacking ={}'.format(accuracy_for_train))\n",
        "print('Accuracy for testing set for Stacking = {}'. format(accuracy_for_test))"
      ],
      "metadata": {
        "colab": {
          "base_uri": "https://localhost:8080/",
          "height": 390
        },
        "id": "UrnOmhWtpjhz",
        "outputId": "c2b5c834-f29f-4f88-c015-6d8f29461b46"
      },
      "execution_count": null,
      "outputs": [
        {
          "output_type": "error",
          "ename": "TypeError",
          "evalue": "ignored",
          "traceback": [
            "\u001b[0;31m---------------------------------------------------------------------------\u001b[0m",
            "\u001b[0;31mTypeError\u001b[0m                                 Traceback (most recent call last)",
            "\u001b[0;32m<ipython-input-57-0dcad3c6ae47>\u001b[0m in \u001b[0;36m<cell line: 5>\u001b[0;34m()\u001b[0m\n\u001b[1;32m      3\u001b[0m \u001b[0mX_train\u001b[0m \u001b[0;34m=\u001b[0m \u001b[0mss\u001b[0m\u001b[0;34m.\u001b[0m\u001b[0mfit_transform\u001b[0m\u001b[0;34m(\u001b[0m\u001b[0mX_train\u001b[0m\u001b[0;34m)\u001b[0m\u001b[0;34m\u001b[0m\u001b[0;34m\u001b[0m\u001b[0m\n\u001b[1;32m      4\u001b[0m \u001b[0mX_test\u001b[0m \u001b[0;34m=\u001b[0m \u001b[0mss\u001b[0m\u001b[0;34m.\u001b[0m\u001b[0mfit_transform\u001b[0m\u001b[0;34m(\u001b[0m\u001b[0mX_test\u001b[0m\u001b[0;34m)\u001b[0m\u001b[0;34m\u001b[0m\u001b[0;34m\u001b[0m\u001b[0m\n\u001b[0;32m----> 5\u001b[0;31m \u001b[0mlast_model\u001b[0m \u001b[0;34m=\u001b[0m \u001b[0mstacking\u001b[0m\u001b[0;34m.\u001b[0m\u001b[0mfit\u001b[0m\u001b[0;34m(\u001b[0m\u001b[0mX_train\u001b[0m\u001b[0;34m,\u001b[0m \u001b[0my_train\u001b[0m\u001b[0;34m)\u001b[0m\u001b[0;34m\u001b[0m\u001b[0;34m\u001b[0m\u001b[0m\n\u001b[0m\u001b[1;32m      6\u001b[0m \u001b[0;34m\u001b[0m\u001b[0m\n\u001b[1;32m      7\u001b[0m \u001b[0;32mfrom\u001b[0m \u001b[0msklearn\u001b[0m\u001b[0;34m.\u001b[0m\u001b[0mmetrics\u001b[0m \u001b[0;32mimport\u001b[0m \u001b[0mconfusion_matrix\u001b[0m\u001b[0;34m\u001b[0m\u001b[0;34m\u001b[0m\u001b[0m\n",
            "\u001b[0;32m/usr/local/lib/python3.10/dist-packages/sklearn/ensemble/_stacking.py\u001b[0m in \u001b[0;36mfit\u001b[0;34m(self, X, y, sample_weight)\u001b[0m\n\u001b[1;32m    658\u001b[0m             \u001b[0mself\u001b[0m\u001b[0;34m.\u001b[0m\u001b[0mclasses_\u001b[0m \u001b[0;34m=\u001b[0m \u001b[0mself\u001b[0m\u001b[0;34m.\u001b[0m\u001b[0m_label_encoder\u001b[0m\u001b[0;34m.\u001b[0m\u001b[0mclasses_\u001b[0m\u001b[0;34m\u001b[0m\u001b[0;34m\u001b[0m\u001b[0m\n\u001b[1;32m    659\u001b[0m             \u001b[0my_encoded\u001b[0m \u001b[0;34m=\u001b[0m \u001b[0mself\u001b[0m\u001b[0;34m.\u001b[0m\u001b[0m_label_encoder\u001b[0m\u001b[0;34m.\u001b[0m\u001b[0mtransform\u001b[0m\u001b[0;34m(\u001b[0m\u001b[0my\u001b[0m\u001b[0;34m)\u001b[0m\u001b[0;34m\u001b[0m\u001b[0;34m\u001b[0m\u001b[0m\n\u001b[0;32m--> 660\u001b[0;31m         \u001b[0;32mreturn\u001b[0m \u001b[0msuper\u001b[0m\u001b[0;34m(\u001b[0m\u001b[0;34m)\u001b[0m\u001b[0;34m.\u001b[0m\u001b[0mfit\u001b[0m\u001b[0;34m(\u001b[0m\u001b[0mX\u001b[0m\u001b[0;34m,\u001b[0m \u001b[0my_encoded\u001b[0m\u001b[0;34m,\u001b[0m \u001b[0msample_weight\u001b[0m\u001b[0;34m)\u001b[0m\u001b[0;34m\u001b[0m\u001b[0;34m\u001b[0m\u001b[0m\n\u001b[0m\u001b[1;32m    661\u001b[0m \u001b[0;34m\u001b[0m\u001b[0m\n\u001b[1;32m    662\u001b[0m     \u001b[0;34m@\u001b[0m\u001b[0mavailable_if\u001b[0m\u001b[0;34m(\u001b[0m\u001b[0m_estimator_has\u001b[0m\u001b[0;34m(\u001b[0m\u001b[0;34m\"predict\"\u001b[0m\u001b[0;34m)\u001b[0m\u001b[0;34m)\u001b[0m\u001b[0;34m\u001b[0m\u001b[0;34m\u001b[0m\u001b[0m\n",
            "\u001b[0;32m/usr/local/lib/python3.10/dist-packages/sklearn/ensemble/_stacking.py\u001b[0m in \u001b[0;36mfit\u001b[0;34m(self, X, y, sample_weight)\u001b[0m\n\u001b[1;32m    192\u001b[0m         \u001b[0;31m# all_estimators contains all estimators, the one to be fitted and the\u001b[0m\u001b[0;34m\u001b[0m\u001b[0;34m\u001b[0m\u001b[0m\n\u001b[1;32m    193\u001b[0m         \u001b[0;31m# 'drop' string.\u001b[0m\u001b[0;34m\u001b[0m\u001b[0;34m\u001b[0m\u001b[0m\n\u001b[0;32m--> 194\u001b[0;31m         \u001b[0mnames\u001b[0m\u001b[0;34m,\u001b[0m \u001b[0mall_estimators\u001b[0m \u001b[0;34m=\u001b[0m \u001b[0mself\u001b[0m\u001b[0;34m.\u001b[0m\u001b[0m_validate_estimators\u001b[0m\u001b[0;34m(\u001b[0m\u001b[0;34m)\u001b[0m\u001b[0;34m\u001b[0m\u001b[0;34m\u001b[0m\u001b[0m\n\u001b[0m\u001b[1;32m    195\u001b[0m         \u001b[0mself\u001b[0m\u001b[0;34m.\u001b[0m\u001b[0m_validate_final_estimator\u001b[0m\u001b[0;34m(\u001b[0m\u001b[0;34m)\u001b[0m\u001b[0;34m\u001b[0m\u001b[0;34m\u001b[0m\u001b[0m\n\u001b[1;32m    196\u001b[0m \u001b[0;34m\u001b[0m\u001b[0m\n",
            "\u001b[0;32m/usr/local/lib/python3.10/dist-packages/sklearn/ensemble/_stacking.py\u001b[0m in \u001b[0;36m_validate_estimators\u001b[0;34m(self)\u001b[0m\n\u001b[1;32m    607\u001b[0m                 \u001b[0;34m\"non-empty list of (string, estimator) tuples.\"\u001b[0m\u001b[0;34m\u001b[0m\u001b[0;34m\u001b[0m\u001b[0m\n\u001b[1;32m    608\u001b[0m             )\n\u001b[0;32m--> 609\u001b[0;31m         \u001b[0mnames\u001b[0m\u001b[0;34m,\u001b[0m \u001b[0mestimators\u001b[0m \u001b[0;34m=\u001b[0m \u001b[0mzip\u001b[0m\u001b[0;34m(\u001b[0m\u001b[0;34m*\u001b[0m\u001b[0mself\u001b[0m\u001b[0;34m.\u001b[0m\u001b[0mestimators\u001b[0m\u001b[0;34m)\u001b[0m\u001b[0;34m\u001b[0m\u001b[0;34m\u001b[0m\u001b[0m\n\u001b[0m\u001b[1;32m    610\u001b[0m         \u001b[0mself\u001b[0m\u001b[0;34m.\u001b[0m\u001b[0m_validate_names\u001b[0m\u001b[0;34m(\u001b[0m\u001b[0mnames\u001b[0m\u001b[0;34m)\u001b[0m\u001b[0;34m\u001b[0m\u001b[0;34m\u001b[0m\u001b[0m\n\u001b[1;32m    611\u001b[0m \u001b[0;34m\u001b[0m\u001b[0m\n",
            "\u001b[0;31mTypeError\u001b[0m: 'DecisionTreeClassifier' object is not iterable"
          ]
        }
      ]
    }
  ],
  "metadata": {
    "accelerator": "GPU",
    "colab": {
      "provenance": [],
      "gpuType": "T4"
    },
    "kernelspec": {
      "display_name": "Python 3",
      "name": "python3"
    },
    "language_info": {
      "name": "python"
    }
  },
  "nbformat": 4,
  "nbformat_minor": 0
}